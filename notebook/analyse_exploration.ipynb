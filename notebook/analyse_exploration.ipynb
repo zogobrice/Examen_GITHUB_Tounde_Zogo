{
 "cells": [
  {
   "cell_type": "code",
   "execution_count": null,
   "metadata": {},
   "outputs": [],
   "source": [
    "# Importer les bibliothèques nécessaires\n",
    "import numpy as np\n",
    "import pandas as pd\n",
    "import os\n",
    "import random\n",
    "import matplotlib.pyplot as plt\n",
    "from PIL import Image"
   ]
  },
  {
   "cell_type": "code",
   "execution_count": null,
   "metadata": {},
   "outputs": [],
   "source": [
    "# Chemin des données\n",
    "data_dir = '../data/train'"
   ]
  },
  {
   "cell_type": "code",
   "execution_count": null,
   "metadata": {},
   "outputs": [],
   "source": [
    "# Afficher quelques images aléatoires\n",
    "base_dir = \"../data/train\"\n",
    "image_dirs = [os.path.join(base_dir, d) for d in os.listdir(base_dir) if os.path.isdir(os.path.join(base_dir, d))]\n",
    "num_images = 3\n",
    "random_indices = random.sample(range(len(image_dirs)), num_images)\n",
    "selected_dirs = [image_dirs[i] for i in random_indices]\n",
    "\n",
    "selected_paths = []\n",
    "selected_labels = []\n",
    "for directory in selected_dirs:\n",
    "    image_paths = [os.path.join(directory, image) for image in os.listdir(directory) if image.endswith((\".jpg\", \".jpeg\", \".png\"))]\n",
    "    random_path = random.choice(image_paths)\n",
    "    label = os.path.basename(directory)\n",
    "    selected_paths.append(random_path)\n",
    "    selected_labels.append(label)\n",
    "\n",
    "plt.figure(figsize=(10, 5))\n",
    "for i, (image_path, label) in enumerate(zip(selected_paths, selected_labels)):\n",
    "    plt.subplot(1, num_images, i + 1)\n",
    "    image = Image.open(image_path)\n",
    "    plt.imshow(image)\n",
    "    plt.title(label)\n",
    "    plt.axis(\"off\")\n",
    "plt.show()"
   ]
  }
 ],
 "metadata": {
  "kernelspec": {
   "display_name": "Deep_Learning",
   "language": "python",
   "name": "python3"
  },
  "language_info": {
   "name": "python",
   "version": "3.10.13"
  }
 },
 "nbformat": 4,
 "nbformat_minor": 2
}
